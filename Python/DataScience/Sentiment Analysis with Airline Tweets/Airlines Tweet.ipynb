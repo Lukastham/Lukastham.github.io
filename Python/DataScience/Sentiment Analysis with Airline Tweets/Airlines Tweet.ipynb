{
 "cells": [
  {
   "cell_type": "code",
   "execution_count": 13,
   "metadata": {},
   "outputs": [],
   "source": [
    "import nltk\n",
    "import random\n",
    "from nltk.classify.scikitlearn import SklearnClassifier\n",
    "import pickle\n",
    "from sklearn.naive_bayes import MultinomialNB, BernoulliNB\n",
    "from sklearn.linear_model import LogisticRegression, SGDClassifier\n",
    "from sklearn.svm import SVC, LinearSVC, NuSVC\n",
    "from nltk.classify import ClassifierI\n",
    "from statistics import mode\n",
    "from nltk.tokenize import word_tokenize\n",
    "import re"
   ]
  },
  {
   "cell_type": "code",
   "execution_count": 14,
   "metadata": {},
   "outputs": [],
   "source": [
    "import numpy as np\n",
    "import pandas as pd\n",
    "\n",
    "df = pd.read_csv('airline-tweets-sentiments.csv')\n",
    "df.columns = ['id', 'tweets', 'language', 'sentiment_value']"
   ]
  },
  {
   "cell_type": "code",
   "execution_count": 15,
   "metadata": {},
   "outputs": [],
   "source": [
    "all_words = []\n",
    "doc = []\n",
    "from nltk.corpus import stopwords\n",
    "import re\n",
    "\n",
    "stop_words = list(set(stopwords.words('english')))\n",
    "\n",
    "allowed_word_types = [\"J\"]\n",
    "\n",
    "for index, row in df.iterrows():\n",
    "    if row['sentiment_value'] == 2: \n",
    "        doc.append( (row['tweets'], \"pos\") )\n",
    "\n",
    "        cleaned = re.sub(r'[^(a-zA-Z)\\s]','', row['tweets'])\n",
    "\n",
    "        tokenized = word_tokenize(cleaned)\n",
    "\n",
    "        stopped = [w for w in tokenized if not w in stop_words]\n",
    "\n",
    "        pos = nltk.pos_tag(stopped)\n",
    "\n",
    "        for w in pos:\n",
    "            if w[1][0] in allowed_word_types:\n",
    "                all_words.append(w[0].lower())\n",
    "\n",
    "    elif row['sentiment_value'] == 0:\n",
    "            doc.append( (row['tweets'], \"neg\") )\n",
    "            cleaned = re.sub(r'[^(a-zA-Z)\\s]','', row['tweets'])\n",
    "            tokenized = word_tokenize(cleaned)\n",
    "            stopped = [w for w in tokenized if not w in stop_words]\n",
    "            neg = nltk.pos_tag(stopped)\n",
    "            for w in neg:\n",
    "                if w[1][0] in allowed_word_types:\n",
    "                    all_words.append(w[0].lower())\n"
   ]
  },
  {
   "cell_type": "code",
   "execution_count": 34,
   "metadata": {},
   "outputs": [],
   "source": [
    "all_words = nltk.FreqDist(all_words)\n",
    "\n",
    "word_features = list(all_words.keys())[:5000]\n",
    "\n",
    "def find_features(doc):\n",
    "    words = word_tokenize(doc)\n",
    "    features = {}\n",
    "    for w in word_features:\n",
    "        features[w] = (w in words)\n",
    "    return features\n",
    "\n",
    "featuresets = [(find_features(rev), category) for (rev, category) in doc]\n",
    "\n",
    "random.shuffle(featuresets)\n",
    "\n",
    "training_set = featuresets[:300]\n",
    "testing_set = featuresets[300:]\n"
   ]
  },
  {
   "cell_type": "code",
   "execution_count": 35,
   "metadata": {},
   "outputs": [
    {
     "name": "stdout",
     "output_type": "stream",
     "text": [
      "Classifier accuracy percent: 81.35593220338984\n",
      "Most Informative Features\n",
      "                 luggage = True              neg : pos    =      8.4 : 1.0\n",
      "                   thank = True              pos : neg    =      6.3 : 1.0\n",
      "                    free = True              pos : neg    =      6.3 : 1.0\n",
      "                   delta = True              neg : pos    =      5.5 : 1.0\n",
      "                 amazing = True              pos : neg    =      4.9 : 1.0\n",
      "                     bag = True              neg : pos    =      4.9 : 1.0\n",
      "                  airbus = True              pos : neg    =      3.5 : 1.0\n",
      "                    want = True              pos : neg    =      3.5 : 1.0\n",
      "                    good = True              pos : neg    =      3.0 : 1.0\n",
      "                    cool = True              pos : neg    =      3.0 : 1.0\n",
      "                   happy = True              pos : neg    =      3.0 : 1.0\n",
      "                   cabin = True              pos : neg    =      3.0 : 1.0\n",
      "                     klm = True              pos : neg    =      2.7 : 1.0\n",
      "            professional = True              pos : neg    =      2.1 : 1.0\n",
      "                     hey = True              pos : neg    =      2.1 : 1.0\n"
     ]
    }
   ],
   "source": [
    "classifier = nltk.NaiveBayesClassifier.train(training_set)\n",
    "\n",
    "print(\"Classifier accuracy percent:\",(nltk.classify.accuracy(classifier, testing_set))*100)\n",
    "\n",
    "classifier.show_most_informative_features(15)"
   ]
  },
  {
   "cell_type": "code",
   "execution_count": null,
   "metadata": {},
   "outputs": [],
   "source": []
  }
 ],
 "metadata": {
  "kernelspec": {
   "display_name": "Python 3",
   "language": "python",
   "name": "python3"
  },
  "language_info": {
   "codemirror_mode": {
    "name": "ipython",
    "version": 3
   },
   "file_extension": ".py",
   "mimetype": "text/x-python",
   "name": "python",
   "nbconvert_exporter": "python",
   "pygments_lexer": "ipython3",
   "version": "3.6.5"
  }
 },
 "nbformat": 4,
 "nbformat_minor": 2
}
